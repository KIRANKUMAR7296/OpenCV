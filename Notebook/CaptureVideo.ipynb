{
 "cells": [
  {
   "cell_type": "markdown",
   "metadata": {},
   "source": [
    "### Capture Video 📹 🏃🏻‍♂️\n",
    "\n",
    "Video : Multiple Frame Displayed very Quickly "
   ]
  },
  {
   "cell_type": "code",
   "execution_count": 1,
   "metadata": {},
   "outputs": [],
   "source": [
    "import cv2\n",
    "import time"
   ]
  },
  {
   "cell_type": "markdown",
   "metadata": {},
   "source": [
    "`Capture` Video\n",
    "- Path : Video File on Computer\n",
    "- 0 : Webcam\n",
    "- 1 : External Cam"
   ]
  },
  {
   "cell_type": "code",
   "execution_count": 2,
   "metadata": {},
   "outputs": [],
   "source": [
    "video = cv2.VideoCapture(0)"
   ]
  },
  {
   "cell_type": "markdown",
   "metadata": {},
   "source": [
    "`check` : Able to Read the Video Capture Object.\n",
    "\n",
    "`frame` : Represent First Image that Video Captures.   "
   ]
  },
  {
   "cell_type": "code",
   "execution_count": 3,
   "metadata": {},
   "outputs": [],
   "source": [
    "a = 1\n",
    "\n",
    "while True: # While Python is able to Capture Video\n",
    "    \n",
    "    a += 1\n",
    "    \n",
    "    check, frame = video.read()\n",
    "    \n",
    "    gray = cv2.cvtColor(frame, cv2.COLOR_BGR2GRAY) # Convert each Frame into Gray Scale Image\n",
    "    \n",
    "    cv2.imshow('Frames', gray)\n",
    "    \n",
    "    key = cv2.waitKey(1) # Generate a New Frame after 1 miliseconds\n",
    "    \n",
    "    if key == ord('q'): # Once you enter q the window will be Destroyed\n",
    "        break"
   ]
  },
  {
   "cell_type": "code",
   "execution_count": 4,
   "metadata": {},
   "outputs": [
    {
     "name": "stdout",
     "output_type": "stream",
     "text": [
      "Number of Frames Captured : 193 Frames\n"
     ]
    }
   ],
   "source": [
    "print(f'Number of Frames Captured : {a} Frames')"
   ]
  },
  {
   "cell_type": "markdown",
   "metadata": {},
   "source": [
    "`Release` Camera in some Milliseconds"
   ]
  },
  {
   "cell_type": "code",
   "execution_count": 5,
   "metadata": {},
   "outputs": [],
   "source": [
    "time.sleep(5) # 5 Seconds\n",
    "video.release()"
   ]
  },
  {
   "cell_type": "code",
   "execution_count": 6,
   "metadata": {},
   "outputs": [
    {
     "name": "stdout",
     "output_type": "stream",
     "text": [
      "True\n",
      "[[220 221 222 ...  93  83  78]\n",
      " [224 224 224 ...  95  82  73]\n",
      " [218 219 219 ... 100 104 104]\n",
      " ...\n",
      " [ 54  53  54 ... 177 171 151]\n",
      " [ 45  46  54 ... 174 174 163]\n",
      " [ 43  44  55 ... 170 174 167]]\n"
     ]
    }
   ],
   "source": [
    "print(check)\n",
    "print(frame[:,:,0])"
   ]
  },
  {
   "cell_type": "code",
   "execution_count": 7,
   "metadata": {},
   "outputs": [
    {
     "name": "stdout",
     "output_type": "stream",
     "text": [
      "(480, 640, 3)\n"
     ]
    }
   ],
   "source": [
    "print(frame.shape)"
   ]
  },
  {
   "cell_type": "markdown",
   "metadata": {},
   "source": [
    "`Display` the Last Captured Frame by Webcam"
   ]
  },
  {
   "cell_type": "code",
   "execution_count": 8,
   "metadata": {},
   "outputs": [],
   "source": [
    "cv2.imshow('Capture', frame)\n",
    "cv2.waitKey(0)\n",
    "cv2.destroyAllWindows()"
   ]
  }
 ],
 "metadata": {
  "kernelspec": {
   "display_name": "Python 3",
   "language": "python",
   "name": "python3"
  },
  "language_info": {
   "codemirror_mode": {
    "name": "ipython",
    "version": 3
   },
   "file_extension": ".py",
   "mimetype": "text/x-python",
   "name": "python",
   "nbconvert_exporter": "python",
   "pygments_lexer": "ipython3",
   "version": "3.8.5"
  }
 },
 "nbformat": 4,
 "nbformat_minor": 4
}

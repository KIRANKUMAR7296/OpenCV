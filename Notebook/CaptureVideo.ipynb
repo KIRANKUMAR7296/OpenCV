{
 "cells": [
  {
   "cell_type": "markdown",
   "metadata": {},
   "source": [
    "### Capture Video 📹 🏃🏻‍♂️\n",
    "\n",
    "Video : Multiple `Frame` Displayed very Quickly "
   ]
  },
  {
   "cell_type": "code",
   "execution_count": 1,
   "metadata": {},
   "outputs": [],
   "source": [
    "import cv2\n",
    "import time"
   ]
  },
  {
   "cell_type": "markdown",
   "metadata": {},
   "source": [
    "`Capture` Video\n",
    "- Path : Video File on Computer\n",
    "- 0 : Webcam\n",
    "- 1 : External Cam\n",
    "\n",
    "`check` \n",
    "- Able to Read the Video Capture Object.\n",
    "\n",
    "`frame` \n",
    "- Represent First Image that Video Captures.   \n",
    "\n",
    "Capture Video from `File`"
   ]
  },
  {
   "cell_type": "code",
   "execution_count": 2,
   "metadata": {},
   "outputs": [],
   "source": [
    "video = cv2.VideoCapture('../Video/Pixel4A.mp4')\n",
    "\n",
    "if video.isOpened() == False:\n",
    "    print('Cannot Open Video')\n",
    "    \n",
    "while True: # While Python is able to Capture Video\n",
    "    check, frame = video.read()\n",
    "    \n",
    "    if check == True:\n",
    "        cv2.imshow('Google', frame)\n",
    "        \n",
    "        if cv2.waitKey(5) & 0xFF == 27:\n",
    "            break\n",
    "            \n",
    "    else:\n",
    "        break\n",
    "\n",
    "video.release() \n",
    "cv2.destroyAllWindows()"
   ]
  },
  {
   "cell_type": "markdown",
   "metadata": {},
   "source": [
    "Capture Video from `Webcam`"
   ]
  },
  {
   "cell_type": "code",
   "execution_count": 3,
   "metadata": {},
   "outputs": [],
   "source": [
    "video = cv2.VideoCapture(0)\n",
    "\n",
    "a = 1\n",
    "\n",
    "while True: # While Python is able to Capture Video\n",
    "    \n",
    "    a += 1\n",
    "    \n",
    "    check, frame = video.read()\n",
    "    \n",
    "    gray = cv2.cvtColor(frame, cv2.COLOR_BGR2GRAY) # Convert each Frame into Gray Scale Image\n",
    "    \n",
    "    cv2.imshow('Frames', gray)\n",
    "    \n",
    "    if cv2.waitKey(5) & 0xFF == 27:\n",
    "        break"
   ]
  },
  {
   "cell_type": "code",
   "execution_count": 4,
   "metadata": {},
   "outputs": [
    {
     "name": "stdout",
     "output_type": "stream",
     "text": [
      "Number of Frames Captured : 27 Frames\n"
     ]
    }
   ],
   "source": [
    "print(f'Number of Frames Captured : {a} Frames')"
   ]
  },
  {
   "cell_type": "markdown",
   "metadata": {},
   "source": [
    "`Release` Camera in some Milliseconds"
   ]
  },
  {
   "cell_type": "code",
   "execution_count": 5,
   "metadata": {},
   "outputs": [],
   "source": [
    "time.sleep(2) # 2 Seconds\n",
    "video.release()"
   ]
  },
  {
   "cell_type": "code",
   "execution_count": 6,
   "metadata": {},
   "outputs": [
    {
     "name": "stdout",
     "output_type": "stream",
     "text": [
      "[[ 64  72  80 ...  77  77  78]\n",
      " [ 66  73  80 ...  75  79  78]\n",
      " [ 78  80  84 ...  73  80  78]\n",
      " ...\n",
      " [ 75  77  79 ... 130  93  70]\n",
      " [ 76  79  81 ... 144 113  91]\n",
      " [ 79  82  83 ... 160 140 126]]\n"
     ]
    }
   ],
   "source": [
    "print(frame[:,:,0])"
   ]
  },
  {
   "cell_type": "code",
   "execution_count": 7,
   "metadata": {},
   "outputs": [
    {
     "name": "stdout",
     "output_type": "stream",
     "text": [
      "(480, 640, 3)\n"
     ]
    }
   ],
   "source": [
    "print(frame.shape)"
   ]
  },
  {
   "cell_type": "markdown",
   "metadata": {},
   "source": [
    "`Display` the Last Captured Frame by Webcam"
   ]
  },
  {
   "cell_type": "code",
   "execution_count": 8,
   "metadata": {},
   "outputs": [],
   "source": [
    "cv2.imshow('Capture', frame)\n",
    "cv2.waitKey(0)\n",
    "cv2.destroyAllWindows()"
   ]
  }
 ],
 "metadata": {
  "kernelspec": {
   "display_name": "Python 3",
   "language": "python",
   "name": "python3"
  },
  "language_info": {
   "codemirror_mode": {
    "name": "ipython",
    "version": 3
   },
   "file_extension": ".py",
   "mimetype": "text/x-python",
   "name": "python",
   "nbconvert_exporter": "python",
   "pygments_lexer": "ipython3",
   "version": "3.8.5"
  }
 },
 "nbformat": 4,
 "nbformat_minor": 4
}
